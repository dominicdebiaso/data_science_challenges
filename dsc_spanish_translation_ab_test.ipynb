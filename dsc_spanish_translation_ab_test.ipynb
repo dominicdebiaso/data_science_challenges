{
 "cells": [
  {
   "cell_type": "code",
   "execution_count": 322,
   "metadata": {
    "collapsed": true
   },
   "outputs": [],
   "source": [
    "import pandas as pd\n",
    "from scipy import stats\n",
    "import matplotlib.pyplot as plt\n",
    "from sklearn import tree\n",
    "\n",
    "%matplotlib inline"
   ]
  },
  {
   "cell_type": "code",
   "execution_count": 323,
   "metadata": {
    "collapsed": false
   },
   "outputs": [],
   "source": [
    "test = pd.read_csv('/Users/dominicdebiaso/Development/datasets/dsc_abtest_test_table.csv')\n",
    "user = pd.read_csv('/Users/dominicdebiaso/Development/datasets/dsc_abtest_user_table.csv')"
   ]
  },
  {
   "cell_type": "markdown",
   "metadata": {},
   "source": [
    "## EDA"
   ]
  },
  {
   "cell_type": "code",
   "execution_count": 324,
   "metadata": {
    "collapsed": false
   },
   "outputs": [
    {
     "name": "stdout",
     "output_type": "stream",
     "text": [
      "True\n",
      "True\n",
      "454\n"
     ]
    }
   ],
   "source": [
    "# Duplicates in test info?\n",
    "print(len(test.user_id) == len(test.user_id.unique()))\n",
    "\n",
    "# Duplicates in the user info?\n",
    "print(len(user.user_id) == len(user.user_id.unique()))\n",
    "\n",
    "# Are the users present in both tables?\n",
    "print(len(test.user_id) - len(user.user_id))\n",
    "\n",
    "# Merge into large dataset\n",
    "df = pd.merge(test, user, on='user_id', how='outer')\n",
    "df['date'] = pd.to_datetime(df.date, errors='coerce')"
   ]
  },
  {
   "cell_type": "code",
   "execution_count": 325,
   "metadata": {
    "collapsed": false
   },
   "outputs": [
    {
     "data": {
      "text/plain": [
       "user_id                      int64\n",
       "date                datetime64[ns]\n",
       "source                      object\n",
       "device                      object\n",
       "browser_language            object\n",
       "ads_channel                 object\n",
       "browser                     object\n",
       "conversion                   int64\n",
       "test                         int64\n",
       "sex                         object\n",
       "age                        float64\n",
       "country                     object\n",
       "dtype: object"
      ]
     },
     "execution_count": 325,
     "metadata": {},
     "output_type": "execute_result"
    }
   ],
   "source": [
    "df.dtypes"
   ]
  },
  {
   "cell_type": "code",
   "execution_count": 326,
   "metadata": {
    "collapsed": false
   },
   "outputs": [
    {
     "data": {
      "text/html": [
       "<div>\n",
       "<table border=\"1\" class=\"dataframe\">\n",
       "  <thead>\n",
       "    <tr style=\"text-align: right;\">\n",
       "      <th></th>\n",
       "      <th>user_id</th>\n",
       "      <th>date</th>\n",
       "      <th>source</th>\n",
       "      <th>device</th>\n",
       "      <th>browser_language</th>\n",
       "      <th>ads_channel</th>\n",
       "      <th>browser</th>\n",
       "      <th>conversion</th>\n",
       "      <th>test</th>\n",
       "      <th>sex</th>\n",
       "      <th>age</th>\n",
       "      <th>country</th>\n",
       "    </tr>\n",
       "  </thead>\n",
       "  <tbody>\n",
       "    <tr>\n",
       "      <th>count</th>\n",
       "      <td>453321</td>\n",
       "      <td>453321</td>\n",
       "      <td>453321</td>\n",
       "      <td>453321</td>\n",
       "      <td>453321</td>\n",
       "      <td>181877</td>\n",
       "      <td>453321</td>\n",
       "      <td>453321</td>\n",
       "      <td>453321</td>\n",
       "      <td>452867</td>\n",
       "      <td>452867</td>\n",
       "      <td>452867</td>\n",
       "    </tr>\n",
       "    <tr>\n",
       "      <th>unique</th>\n",
       "      <td></td>\n",
       "      <td>5</td>\n",
       "      <td>3</td>\n",
       "      <td>2</td>\n",
       "      <td>3</td>\n",
       "      <td>5</td>\n",
       "      <td>7</td>\n",
       "      <td></td>\n",
       "      <td></td>\n",
       "      <td>2</td>\n",
       "      <td></td>\n",
       "      <td>17</td>\n",
       "    </tr>\n",
       "    <tr>\n",
       "      <th>top</th>\n",
       "      <td></td>\n",
       "      <td>2015-12-04 00:00:00</td>\n",
       "      <td>Ads</td>\n",
       "      <td>Web</td>\n",
       "      <td>ES</td>\n",
       "      <td>Facebook</td>\n",
       "      <td>Android_App</td>\n",
       "      <td></td>\n",
       "      <td></td>\n",
       "      <td>M</td>\n",
       "      <td></td>\n",
       "      <td>Mexico</td>\n",
       "    </tr>\n",
       "    <tr>\n",
       "      <th>freq</th>\n",
       "      <td></td>\n",
       "      <td>141163</td>\n",
       "      <td>181877</td>\n",
       "      <td>251565</td>\n",
       "      <td>377547</td>\n",
       "      <td>68425</td>\n",
       "      <td>155135</td>\n",
       "      <td></td>\n",
       "      <td></td>\n",
       "      <td>264485</td>\n",
       "      <td></td>\n",
       "      <td>128484</td>\n",
       "    </tr>\n",
       "    <tr>\n",
       "      <th>first</th>\n",
       "      <td></td>\n",
       "      <td>2015-11-30 00:00:00</td>\n",
       "      <td></td>\n",
       "      <td></td>\n",
       "      <td></td>\n",
       "      <td></td>\n",
       "      <td></td>\n",
       "      <td></td>\n",
       "      <td></td>\n",
       "      <td></td>\n",
       "      <td></td>\n",
       "      <td></td>\n",
       "    </tr>\n",
       "    <tr>\n",
       "      <th>last</th>\n",
       "      <td></td>\n",
       "      <td>2015-12-04 00:00:00</td>\n",
       "      <td></td>\n",
       "      <td></td>\n",
       "      <td></td>\n",
       "      <td></td>\n",
       "      <td></td>\n",
       "      <td></td>\n",
       "      <td></td>\n",
       "      <td></td>\n",
       "      <td></td>\n",
       "      <td></td>\n",
       "    </tr>\n",
       "    <tr>\n",
       "      <th>mean</th>\n",
       "      <td>499938</td>\n",
       "      <td></td>\n",
       "      <td></td>\n",
       "      <td></td>\n",
       "      <td></td>\n",
       "      <td></td>\n",
       "      <td></td>\n",
       "      <td>0.0495786</td>\n",
       "      <td>0.476446</td>\n",
       "      <td></td>\n",
       "      <td>27.1307</td>\n",
       "      <td></td>\n",
       "    </tr>\n",
       "    <tr>\n",
       "      <th>std</th>\n",
       "      <td>288665</td>\n",
       "      <td></td>\n",
       "      <td></td>\n",
       "      <td></td>\n",
       "      <td></td>\n",
       "      <td></td>\n",
       "      <td></td>\n",
       "      <td>0.217073</td>\n",
       "      <td>0.499445</td>\n",
       "      <td></td>\n",
       "      <td>6.77668</td>\n",
       "      <td></td>\n",
       "    </tr>\n",
       "    <tr>\n",
       "      <th>min</th>\n",
       "      <td>1</td>\n",
       "      <td></td>\n",
       "      <td></td>\n",
       "      <td></td>\n",
       "      <td></td>\n",
       "      <td></td>\n",
       "      <td></td>\n",
       "      <td>0</td>\n",
       "      <td>0</td>\n",
       "      <td></td>\n",
       "      <td>18</td>\n",
       "      <td></td>\n",
       "    </tr>\n",
       "    <tr>\n",
       "      <th>25%</th>\n",
       "      <td>249816</td>\n",
       "      <td></td>\n",
       "      <td></td>\n",
       "      <td></td>\n",
       "      <td></td>\n",
       "      <td></td>\n",
       "      <td></td>\n",
       "      <td>0</td>\n",
       "      <td>0</td>\n",
       "      <td></td>\n",
       "      <td></td>\n",
       "      <td></td>\n",
       "    </tr>\n",
       "    <tr>\n",
       "      <th>50%</th>\n",
       "      <td>500019</td>\n",
       "      <td></td>\n",
       "      <td></td>\n",
       "      <td></td>\n",
       "      <td></td>\n",
       "      <td></td>\n",
       "      <td></td>\n",
       "      <td>0</td>\n",
       "      <td>0</td>\n",
       "      <td></td>\n",
       "      <td></td>\n",
       "      <td></td>\n",
       "    </tr>\n",
       "    <tr>\n",
       "      <th>75%</th>\n",
       "      <td>749522</td>\n",
       "      <td></td>\n",
       "      <td></td>\n",
       "      <td></td>\n",
       "      <td></td>\n",
       "      <td></td>\n",
       "      <td></td>\n",
       "      <td>0</td>\n",
       "      <td>1</td>\n",
       "      <td></td>\n",
       "      <td></td>\n",
       "      <td></td>\n",
       "    </tr>\n",
       "    <tr>\n",
       "      <th>max</th>\n",
       "      <td>1e+06</td>\n",
       "      <td></td>\n",
       "      <td></td>\n",
       "      <td></td>\n",
       "      <td></td>\n",
       "      <td></td>\n",
       "      <td></td>\n",
       "      <td>1</td>\n",
       "      <td>1</td>\n",
       "      <td></td>\n",
       "      <td>70</td>\n",
       "      <td></td>\n",
       "    </tr>\n",
       "  </tbody>\n",
       "</table>\n",
       "</div>"
      ],
      "text/plain": [
       "       user_id                 date  source  device browser_language  \\\n",
       "count   453321               453321  453321  453321           453321   \n",
       "unique                            5       3       2                3   \n",
       "top             2015-12-04 00:00:00     Ads     Web               ES   \n",
       "freq                         141163  181877  251565           377547   \n",
       "first           2015-11-30 00:00:00                                    \n",
       "last            2015-12-04 00:00:00                                    \n",
       "mean    499938                                                         \n",
       "std     288665                                                         \n",
       "min          1                                                         \n",
       "25%     249816                                                         \n",
       "50%     500019                                                         \n",
       "75%     749522                                                         \n",
       "max      1e+06                                                         \n",
       "\n",
       "       ads_channel      browser conversion      test     sex      age country  \n",
       "count       181877       453321     453321    453321  452867   452867  452867  \n",
       "unique           5            7                            2               17  \n",
       "top       Facebook  Android_App                            M           Mexico  \n",
       "freq         68425       155135                       264485           128484  \n",
       "first                                                                          \n",
       "last                                                                           \n",
       "mean                             0.0495786  0.476446          27.1307          \n",
       "std                               0.217073  0.499445          6.77668          \n",
       "min                                      0         0               18          \n",
       "25%                                      0         0                           \n",
       "50%                                      0         0                           \n",
       "75%                                      0         1                           \n",
       "max                                      1         1               70          "
      ]
     },
     "execution_count": 326,
     "metadata": {},
     "output_type": "execute_result"
    }
   ],
   "source": [
    "df.describe(include='all').fillna('')"
   ]
  },
  {
   "cell_type": "code",
   "execution_count": 327,
   "metadata": {
    "collapsed": false
   },
   "outputs": [
    {
     "data": {
      "text/plain": [
       "user_id                  0\n",
       "date                     0\n",
       "source                   0\n",
       "device                   0\n",
       "browser_language         0\n",
       "ads_channel         271444\n",
       "browser                  0\n",
       "conversion               0\n",
       "test                     0\n",
       "sex                    454\n",
       "age                    454\n",
       "country                454\n",
       "dtype: int64"
      ]
     },
     "execution_count": 327,
     "metadata": {},
     "output_type": "execute_result"
    }
   ],
   "source": [
    "df.isnull().sum()"
   ]
  },
  {
   "cell_type": "code",
   "execution_count": 328,
   "metadata": {
    "collapsed": false
   },
   "outputs": [
    {
     "data": {
      "text/plain": [
       "country\n",
       "Spain          0.079719\n",
       "Costa Rica     0.053494\n",
       "Nicaragua      0.053399\n",
       "Colombia       0.051332\n",
       "El Salvador    0.050765\n",
       "Mexico         0.050341\n",
       "Peru           0.050258\n",
       "Chile          0.049704\n",
       "Venezuela      0.049666\n",
       "Guatemala      0.049653\n",
       "Honduras       0.049253\n",
       "Ecuador        0.049072\n",
       "Paraguay       0.048863\n",
       "Bolivia        0.048634\n",
       "Panama         0.048089\n",
       "Argentina      0.013994\n",
       "Uruguay        0.012821\n",
       "Name: conversion, dtype: float64"
      ]
     },
     "execution_count": 328,
     "metadata": {},
     "output_type": "execute_result"
    }
   ],
   "source": [
    "# Check conversion per country\n",
    "df.groupby('country')['conversion'].mean().sort_values(ascending=False)"
   ]
  },
  {
   "cell_type": "code",
   "execution_count": 329,
   "metadata": {
    "collapsed": false
   },
   "outputs": [
    {
     "data": {
      "text/plain": [
       "Ttest_indResult(statistic=-7.3939374121344805, pvalue=1.4282994754055316e-13)"
      ]
     },
     "execution_count": 329,
     "metadata": {},
     "output_type": "execute_result"
    }
   ],
   "source": [
    "# Spain was baseline thus nothing changed so remove it\n",
    "df_test = df.loc[df.country != 'Spain']\n",
    "\n",
    "# What was conversion when not in control (1) vs  in control (0)\n",
    "# H0: sample/population means equal each other, HA: sample/population means differ, reject null of equal averages\n",
    "# Welcg's t-test used whcih does not assume equal population variance\n",
    "stats.ttest_ind(df_test.conversion.loc[df_test.test == 1], df_test.conversion.loc[df_test.test == 0], equal_var=False)"
   ]
  },
  {
   "cell_type": "code",
   "execution_count": 330,
   "metadata": {
    "collapsed": false
   },
   "outputs": [
    {
     "name": "stdout",
     "output_type": "stream",
     "text": [
      "0.0434247139821\n",
      "0.0483304231607\n"
     ]
    }
   ],
   "source": [
    "# Mean not in control\n",
    "print(df_test.conversion.loc[df_test.test == 1].mean())\n",
    "# Mean in control\n",
    "print(df_test.conversion.loc[df_test.test == 0].mean())"
   ]
  },
  {
   "cell_type": "code",
   "execution_count": 331,
   "metadata": {
    "collapsed": false
   },
   "outputs": [
    {
     "data": {
      "text/plain": [
       "<matplotlib.axes._subplots.AxesSubplot at 0x116e8c490>"
      ]
     },
     "execution_count": 331,
     "metadata": {},
     "output_type": "execute_result"
    },
    {
     "data": {
      "image/png": "[encoded data removed]",
      "text/plain": [
       "<matplotlib.figure.Figure at 0x116e8d650>"
      ]
     },
     "metadata": {},
     "output_type": "display_data"
    }
   ],
   "source": [
    "# Find the ratio of converted to non converted\n",
    "df_test.groupby('date').apply(lambda x: (x.conversion.loc[x.test == 1]).mean() / \n",
    "                                        (x.conversion.loc[x.test == 0]).mean()).reset_index().plot(x='date', kind='line')"
   ]
  },
  {
   "cell_type": "code",
   "execution_count": 332,
   "metadata": {
    "collapsed": false
   },
   "outputs": [
    {
     "name": "stderr",
     "output_type": "stream",
     "text": [
      "/Users/dominicdebiaso/Development/virtualenvs/generalenv/lib/python2.7/site-packages/ipykernel/__main__.py:3: SettingWithCopyWarning: \n",
      "A value is trying to be set on a copy of a slice from a DataFrame.\n",
      "Try using .loc[row_indexer,col_indexer] = value instead\n",
      "\n",
      "See the caveats in the documentation: http://pandas.pydata.org/pandas-docs/stable/indexing.html#indexing-view-versus-copy\n",
      "  app.launch_new_instance()\n"
     ]
    },
    {
     "data": {
      "text/plain": [
       "DecisionTreeClassifier(class_weight=None, criterion='gini', max_depth=2,\n",
       "            max_features=None, max_leaf_nodes=None, min_samples_leaf=1,\n",
       "            min_samples_split=2, min_weight_fraction_leaf=0.0,\n",
       "            presort=False, random_state=None, splitter='best')"
      ]
     },
     "execution_count": 332,
     "metadata": {},
     "output_type": "execute_result"
    }
   ],
   "source": [
    "# Test if users were truly randomly split into test(1) and control(0)\n",
    "df_model = df_test\n",
    "df_model['date'] = df_model['date'].astype('object')\n",
    "df_model = pd.get_dummies(df_model).fillna(0)\n",
    "\n",
    "# Using decision tree to test if being in test or control has bias\n",
    "clf_tree = tree.DecisionTreeClassifier(max_depth=2)\n",
    "clf_tree.fit(df_model.drop(['test', 'conversion'], axis=1), df_model.test)"
   ]
  },
  {
   "cell_type": "code",
   "execution_count": 333,
   "metadata": {
    "collapsed": false
   },
   "outputs": [
    {
     "data": {
      "text/plain": [
       "[('country_Argentina', 0.84650090114422283),\n",
       " ('country_Uruguay', 0.15321392730013658),\n",
       " ('user_id', 0.00028517155564066057)]"
      ]
     },
     "execution_count": 333,
     "metadata": {},
     "output_type": "execute_result"
    }
   ],
   "source": [
    "# Multiple ways to view the tree, seem that Argentina and Uruguay are strong predictors for test/control\n",
    "importances = clf_tree.feature_importances_\n",
    "importances = zip(df_model.drop(['test', 'conversion'], axis=1).columns, importances)\n",
    "sorted(importances, key=lambda x: x[1], reverse=True)[:3]\n",
    "\n",
    "# zip(df_model.drop(['test', 'conversion'], axis=1).columns[clf_tree.tree_.feature], \n",
    "#     clf_tree.tree_.threshold, clf_tree.tree_.children_left, clf_tree.tree_.children_right)\n",
    "\n",
    "# from sklearn.externals.six import StringIO\n",
    "# import pydotplus\n",
    "# from IPython.display import Image\n",
    "# dot_data = StringIO()\n",
    "# tree.export_graphviz(clf, out_file=dot_data, \n",
    "#                      feature_names=df_model.drop(['test', 'conversion'], axis=1).columns, class_names='test', \n",
    "#                      filled=True, rounded=True, \n",
    "#                      special_characters=True)\n",
    "# graph=pydotplus.graph_from_dot_data(dot_data.getvalue())\n",
    "# Image(graph.create_png())"
   ]
  },
  {
   "cell_type": "code",
   "execution_count": 340,
   "metadata": {
    "collapsed": false
   },
   "outputs": [
    {
     "data": {
      "text/plain": [
       "country\n",
       "Mexico         0.165547\n",
       "El Salvador    0.248251\n",
       "Chile          0.302871\n",
       "Argentina      0.321766\n",
       "Colombia       0.423733\n",
       "Honduras       0.471721\n",
       "Guatemala      0.572165\n",
       "Venezuela      0.573740\n",
       "Costa Rica     0.687863\n",
       "Panama         0.705361\n",
       "Bolivia        0.718877\n",
       "Peru           0.771950\n",
       "Nicaragua      0.780351\n",
       "Uruguay        0.882812\n",
       "Paraguay       0.883702\n",
       "Ecuador        0.961512\n",
       "dtype: float64"
      ]
     },
     "execution_count": 340,
     "metadata": {},
     "output_type": "execute_result"
    }
   ],
   "source": [
    "# Check t-test for each country; test is clearly not significant\n",
    "# df_test.groupby('country').size()\n",
    "df_test.groupby('country').apply(lambda x: stats.ttest_ind(\n",
    "        (x.conversion.loc[x.test == 1]), (x.conversion.loc[x.test == 0]))[1]).sort_values()"
   ]
  },
  {
   "cell_type": "code",
   "execution_count": null,
   "metadata": {
    "collapsed": true
   },
   "outputs": [],
   "source": []
  }
 ],
 "metadata": {
  "kernelspec": {
   "display_name": "Python 2",
   "language": "python",
   "name": "python2"
  },
  "language_info": {
   "codemirror_mode": {
    "name": "ipython",
    "version": 2
   },
   "file_extension": ".py",
   "mimetype": "text/x-python",
   "name": "python",
   "nbconvert_exporter": "python",
   "pygments_lexer": "ipython2",
   "version": "2.7.11"
  }
 },
 "nbformat": 4,
 "nbformat_minor": 0
}
